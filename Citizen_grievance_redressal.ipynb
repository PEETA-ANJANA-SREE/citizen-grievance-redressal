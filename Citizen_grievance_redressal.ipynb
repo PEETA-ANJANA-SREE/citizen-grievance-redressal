{
  "nbformat": 4,
  "nbformat_minor": 0,
  "metadata": {
    "colab": {
      "provenance": [],
      "authorship_tag": "ABX9TyMZ/v8lirdOhBRE8Y3dH22d",
      "include_colab_link": true
    },
    "kernelspec": {
      "name": "python3",
      "display_name": "Python 3"
    },
    "language_info": {
      "name": "python"
    }
  },
  "cells": [
    {
      "cell_type": "markdown",
      "metadata": {
        "id": "view-in-github",
        "colab_type": "text"
      },
      "source": [
        "<a href=\"https://colab.research.google.com/github/PEETA-ANJANA-SREE/citizen-grievance-redressal/blob/main/Citizen_grievance_redressal.ipynb\" target=\"_parent\"><img src=\"https://colab.research.google.com/assets/colab-badge.svg\" alt=\"Open In Colab\"/></a>"
      ]
    },
    {
      "cell_type": "code",
      "execution_count": null,
      "metadata": {
        "colab": {
          "base_uri": "https://localhost:8080/"
        },
        "id": "bO5v_kaJqzIX",
        "outputId": "cc81aa1b-e65b-4f69-93fb-69faa055cfd2"
      },
      "outputs": [
        {
          "output_type": "stream",
          "name": "stdout",
          "text": [
            "Requirement already satisfied: speechRecognition in /usr/local/lib/python3.10/dist-packages (3.10.1)\n",
            "Requirement already satisfied: requests>=2.26.0 in /usr/local/lib/python3.10/dist-packages (from speechRecognition) (2.31.0)\n",
            "Requirement already satisfied: typing-extensions in /usr/local/lib/python3.10/dist-packages (from speechRecognition) (4.9.0)\n",
            "Requirement already satisfied: charset-normalizer<4,>=2 in /usr/local/lib/python3.10/dist-packages (from requests>=2.26.0->speechRecognition) (3.3.2)\n",
            "Requirement already satisfied: idna<4,>=2.5 in /usr/local/lib/python3.10/dist-packages (from requests>=2.26.0->speechRecognition) (3.6)\n",
            "Requirement already satisfied: urllib3<3,>=1.21.1 in /usr/local/lib/python3.10/dist-packages (from requests>=2.26.0->speechRecognition) (2.0.7)\n",
            "Requirement already satisfied: certifi>=2017.4.17 in /usr/local/lib/python3.10/dist-packages (from requests>=2.26.0->speechRecognition) (2024.2.2)\n"
          ]
        }
      ],
      "source": [
        "!pip install speechRecognition"
      ]
    },
    {
      "cell_type": "code",
      "source": [
        "import speech_recognition as spr"
      ],
      "metadata": {
        "id": "zm8eQDj6q1js"
      },
      "execution_count": null,
      "outputs": []
    },
    {
      "cell_type": "code",
      "source": [
        "spr.__version__"
      ],
      "metadata": {
        "colab": {
          "base_uri": "https://localhost:8080/",
          "height": 36
        },
        "id": "3SeqVscaq6_6",
        "outputId": "966facfe-586d-4866-e637-0e41b2f25090"
      },
      "execution_count": null,
      "outputs": [
        {
          "output_type": "execute_result",
          "data": {
            "text/plain": [
              "'3.10.1'"
            ],
            "application/vnd.google.colaboratory.intrinsic+json": {
              "type": "string"
            }
          },
          "metadata": {},
          "execution_count": 3
        }
      ]
    },
    {
      "cell_type": "code",
      "source": [
        "recognizer=spr.Recognizer()"
      ],
      "metadata": {
        "id": "wfqIncRJq9Sq"
      },
      "execution_count": null,
      "outputs": []
    },
    {
      "cell_type": "code",
      "source": [
        "proverb=spr.AudioFile('/content/9999721909.wav')\n",
        "proverb1=spr.AudioFile('/content/9999719004.wav')\n",
        "proverb2=spr.AudioFile('/content/999949693.wav')\n",
        "proverb3=spr.AudioFile('/content/9999259784.wav')\n",
        "proverb4=spr.AudioFile('/content/9999115048.wav')\n",
        "proverb5=spr.AudioFile('/content/9971488778.wav')\n",
        "proverb6=spr.AudioFile('/content/9971628964.wav')\n",
        "proverb7=spr.AudioFile('/content/9971717527.wav')\n",
        "proverb8=spr.AudioFile('/content/9971825798.wav')\n",
        "proverb9=spr.AudioFile('/content/9971889652.wav')"
      ],
      "metadata": {
        "id": "WitWk7ovrA-B"
      },
      "execution_count": null,
      "outputs": []
    },
    {
      "cell_type": "code",
      "source": [
        "print(type(proverb))\n",
        "print(type(proverb1))\n",
        "print(type(proverb2))\n",
        "print(type(proverb3))\n",
        "print(type(proverb4))\n",
        "print(type(proverb5))\n",
        "print(type(proverb6))\n",
        "print(type(proverb7))\n",
        "print(type(proverb8))\n",
        "print(type(proverb9))\n"
      ],
      "metadata": {
        "colab": {
          "base_uri": "https://localhost:8080/"
        },
        "id": "VLfhNvwKrJtl",
        "outputId": "418e78e4-add7-45d9-c6b6-3f7189ff40d6"
      },
      "execution_count": null,
      "outputs": [
        {
          "output_type": "stream",
          "name": "stdout",
          "text": [
            "<class 'speech_recognition.AudioFile'>\n",
            "<class 'speech_recognition.AudioFile'>\n",
            "<class 'speech_recognition.AudioFile'>\n",
            "<class 'speech_recognition.AudioFile'>\n",
            "<class 'speech_recognition.AudioFile'>\n",
            "<class 'speech_recognition.AudioFile'>\n",
            "<class 'speech_recognition.AudioFile'>\n",
            "<class 'speech_recognition.AudioFile'>\n",
            "<class 'speech_recognition.AudioFile'>\n",
            "<class 'speech_recognition.AudioFile'>\n"
          ]
        }
      ]
    },
    {
      "cell_type": "code",
      "source": [
        "with proverb as source:\n",
        "    proverb = recognizer.record(source)\n",
        "with proverb1 as source:\n",
        "    proverb1 = recognizer.record(source)\n",
        "with proverb2 as source:\n",
        "    proverb2 = recognizer.record(source)\n",
        "with proverb3 as source:\n",
        "    proverb3 = recognizer.record(source)\n",
        "with proverb4 as source:\n",
        "    proverb4 = recognizer.record(source)\n",
        "with proverb5 as source:\n",
        "    proverb5 = recognizer.record(source)\n",
        "with proverb6 as source:\n",
        "    proverb6 = recognizer.record(source)\n",
        "with proverb7 as source:\n",
        "    proverb7 = recognizer.record(source)\n",
        "with proverb8 as source:\n",
        "    proverb8 = recognizer.record(source)\n",
        "with proverb9 as source:\n",
        "    proverb9 = recognizer.record(source)"
      ],
      "metadata": {
        "id": "8_CpI-9QrNOT"
      },
      "execution_count": null,
      "outputs": []
    },
    {
      "source": [
        "print(type(proverb))\n",
        "print(type(proverb1))\n",
        "print(type(proverb2))\n",
        "print(type(proverb3))\n",
        "print(type(proverb4))\n",
        "print(type(proverb5))\n",
        "print(type(proverb6))\n",
        "print(type(proverb7))\n",
        "print(type(proverb8))\n",
        "print(type(proverb9))"
      ],
      "cell_type": "code",
      "metadata": {
        "colab": {
          "base_uri": "https://localhost:8080/"
        },
        "id": "n1UvMLMdr2FA",
        "outputId": "a58b1f32-544f-44c0-853d-2f9252c458fb"
      },
      "execution_count": null,
      "outputs": [
        {
          "output_type": "stream",
          "name": "stdout",
          "text": [
            "<class 'speech_recognition.audio.AudioData'>\n",
            "<class 'speech_recognition.audio.AudioData'>\n",
            "<class 'speech_recognition.audio.AudioData'>\n",
            "<class 'speech_recognition.audio.AudioData'>\n",
            "<class 'speech_recognition.audio.AudioData'>\n",
            "<class 'speech_recognition.audio.AudioData'>\n",
            "<class 'speech_recognition.audio.AudioData'>\n",
            "<class 'speech_recognition.audio.AudioData'>\n",
            "<class 'speech_recognition.audio.AudioData'>\n",
            "<class 'speech_recognition.audio.AudioData'>\n"
          ]
        }
      ]
    },
    {
      "cell_type": "code",
      "source": [
        "text = recognizer.recognize_google(proverb,\n",
        "                                   language=\"en-US\")\n",
        "print(text)\n",
        "text = recognizer.recognize_google(proverb1,\n",
        "                                   language=\"en-US\")\n",
        "print(text)\n",
        "text = recognizer.recognize_google(proverb2,\n",
        "                                   language=\"en-US\")\n",
        "print(text)\n",
        "text = recognizer.recognize_google(proverb3,\n",
        "                                   language=\"en-US\")\n",
        "print(text)\n",
        "text = recognizer.recognize_google(proverb4,\n",
        "                                   language=\"en-US\")\n",
        "print(text)\n",
        "text = recognizer.recognize_google(proverb5,\n",
        "                                   language=\"en-US\")\n",
        "print(text)\n",
        "text = recognizer.recognize_google(proverb6,\n",
        "                                   language=\"en-US\")\n",
        "print(text)\n",
        "text = recognizer.recognize_google(proverb7,\n",
        "                                   language=\"en-US\")\n",
        "print(text)\n",
        "text = recognizer.recognize_google(proverb8,\n",
        "                                   language=\"en-US\")\n",
        "print(text)\n",
        "text = recognizer.recognize_google(proverb9,\n",
        "                                   language=\"en-US\")\n",
        "print(text)\n"
      ],
      "metadata": {
        "colab": {
          "base_uri": "https://localhost:8080/"
        },
        "id": "O-42VyH4r0qr",
        "outputId": "a8620d13-2e5c-4d2c-8f51-d380d9568f18"
      },
      "execution_count": null,
      "outputs": [
        {
          "output_type": "stream",
          "name": "stdout",
          "text": [
            "namaskar Department of administrative reforms and public defender's office Department of Public distribution Michigan\n",
            "OK Google good morning Google\n",
            "hello my department of administrative reforms and public relations with resume music 2018\n",
            "namaskar my department of administrative reform and public storage\n",
            "automotive department of administrative office and Public Relation Department of Finance and banking services\n",
            "play Department of any Stadium\n",
            "namaskar my department of administrative forms and public defender's office Financial Services\n",
            "namaskar my department of administrative reforms in public relations 2013 Central board of directors or income tax related complaint last year 004-024-4767\n",
            "hello namaskar man my department of admission to reforms and public relations with online cpgrams\n",
            "namaskar my department of administrative reforms and public relations 2017 3 7 7\n"
          ]
        }
      ]
    },
    {
      "cell_type": "code",
      "source": [],
      "metadata": {
        "id": "-RoxvcQwr0vr"
      },
      "execution_count": null,
      "outputs": []
    }
  ]
}